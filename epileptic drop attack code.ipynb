{
 "cells": [
  {
   "cell_type": "code",
   "execution_count": 3,
   "metadata": {
    "id": "52jtJbuLGhgs"
   },
   "outputs": [],
   "source": [
    "import pandas as pd\n",
    "import numpy as np\n",
    "import time"
   ]
  },
  {
   "cell_type": "markdown",
   "metadata": {
    "id": "tNs9VKPiGhgw"
   },
   "source": [
    "# List of gene associeated with selected disease"
   ]
  },
  {
   "cell_type": "code",
   "execution_count": 4,
   "metadata": {
    "id": "8qq-dBUGGhgx"
   },
   "outputs": [
    {
     "data": {
      "text/html": [
       "<div>\n",
       "<style scoped>\n",
       "    .dataframe tbody tr th:only-of-type {\n",
       "        vertical-align: middle;\n",
       "    }\n",
       "\n",
       "    .dataframe tbody tr th {\n",
       "        vertical-align: top;\n",
       "    }\n",
       "\n",
       "    .dataframe thead th {\n",
       "        text-align: right;\n",
       "    }\n",
       "</style>\n",
       "<table border=\"1\" class=\"dataframe\">\n",
       "  <thead>\n",
       "    <tr style=\"text-align: right;\">\n",
       "      <th></th>\n",
       "      <th>geneId</th>\n",
       "      <th>geneSymbol</th>\n",
       "      <th>DSI</th>\n",
       "      <th>DPI</th>\n",
       "      <th>diseaseId</th>\n",
       "      <th>diseaseName</th>\n",
       "      <th>diseaseType</th>\n",
       "      <th>diseaseClass</th>\n",
       "      <th>diseaseSemanticType</th>\n",
       "      <th>score</th>\n",
       "      <th>EI</th>\n",
       "      <th>YearInitial</th>\n",
       "      <th>YearFinal</th>\n",
       "      <th>NofPmids</th>\n",
       "      <th>NofSnps</th>\n",
       "      <th>source</th>\n",
       "    </tr>\n",
       "  </thead>\n",
       "  <tbody>\n",
       "    <tr>\n",
       "      <th>0</th>\n",
       "      <td>1</td>\n",
       "      <td>A1BG</td>\n",
       "      <td>0.700</td>\n",
       "      <td>0.538</td>\n",
       "      <td>C0019209</td>\n",
       "      <td>Hepatomegaly</td>\n",
       "      <td>phenotype</td>\n",
       "      <td>C23;C06</td>\n",
       "      <td>Finding</td>\n",
       "      <td>0.30</td>\n",
       "      <td>1.000</td>\n",
       "      <td>2017.0</td>\n",
       "      <td>2017.0</td>\n",
       "      <td>1</td>\n",
       "      <td>0</td>\n",
       "      <td>CTD_human</td>\n",
       "    </tr>\n",
       "    <tr>\n",
       "      <th>1</th>\n",
       "      <td>1</td>\n",
       "      <td>A1BG</td>\n",
       "      <td>0.700</td>\n",
       "      <td>0.538</td>\n",
       "      <td>C0036341</td>\n",
       "      <td>Schizophrenia</td>\n",
       "      <td>disease</td>\n",
       "      <td>F03</td>\n",
       "      <td>Mental or Behavioral Dysfunction</td>\n",
       "      <td>0.30</td>\n",
       "      <td>1.000</td>\n",
       "      <td>2015.0</td>\n",
       "      <td>2015.0</td>\n",
       "      <td>1</td>\n",
       "      <td>0</td>\n",
       "      <td>CTD_human</td>\n",
       "    </tr>\n",
       "    <tr>\n",
       "      <th>2</th>\n",
       "      <td>2</td>\n",
       "      <td>A2M</td>\n",
       "      <td>0.529</td>\n",
       "      <td>0.769</td>\n",
       "      <td>C0002395</td>\n",
       "      <td>Alzheimer's Disease</td>\n",
       "      <td>disease</td>\n",
       "      <td>C10;F03</td>\n",
       "      <td>Disease or Syndrome</td>\n",
       "      <td>0.50</td>\n",
       "      <td>0.769</td>\n",
       "      <td>1998.0</td>\n",
       "      <td>2018.0</td>\n",
       "      <td>3</td>\n",
       "      <td>0</td>\n",
       "      <td>CTD_human</td>\n",
       "    </tr>\n",
       "    <tr>\n",
       "      <th>3</th>\n",
       "      <td>2</td>\n",
       "      <td>A2M</td>\n",
       "      <td>0.529</td>\n",
       "      <td>0.769</td>\n",
       "      <td>C0007102</td>\n",
       "      <td>Malignant tumor of colon</td>\n",
       "      <td>disease</td>\n",
       "      <td>C06;C04</td>\n",
       "      <td>Neoplastic Process</td>\n",
       "      <td>0.31</td>\n",
       "      <td>1.000</td>\n",
       "      <td>2004.0</td>\n",
       "      <td>2019.0</td>\n",
       "      <td>1</td>\n",
       "      <td>0</td>\n",
       "      <td>CTD_human</td>\n",
       "    </tr>\n",
       "    <tr>\n",
       "      <th>4</th>\n",
       "      <td>2</td>\n",
       "      <td>A2M</td>\n",
       "      <td>0.529</td>\n",
       "      <td>0.769</td>\n",
       "      <td>C0009375</td>\n",
       "      <td>Colonic Neoplasms</td>\n",
       "      <td>group</td>\n",
       "      <td>C06;C04</td>\n",
       "      <td>Neoplastic Process</td>\n",
       "      <td>0.30</td>\n",
       "      <td>1.000</td>\n",
       "      <td>2004.0</td>\n",
       "      <td>2004.0</td>\n",
       "      <td>1</td>\n",
       "      <td>0</td>\n",
       "      <td>CTD_human</td>\n",
       "    </tr>\n",
       "  </tbody>\n",
       "</table>\n",
       "</div>"
      ],
      "text/plain": [
       "   geneId geneSymbol    DSI    DPI diseaseId               diseaseName  \\\n",
       "0       1       A1BG  0.700  0.538  C0019209              Hepatomegaly   \n",
       "1       1       A1BG  0.700  0.538  C0036341             Schizophrenia   \n",
       "2       2        A2M  0.529  0.769  C0002395       Alzheimer's Disease   \n",
       "3       2        A2M  0.529  0.769  C0007102  Malignant tumor of colon   \n",
       "4       2        A2M  0.529  0.769  C0009375         Colonic Neoplasms   \n",
       "\n",
       "  diseaseType diseaseClass               diseaseSemanticType  score     EI  \\\n",
       "0   phenotype      C23;C06                           Finding   0.30  1.000   \n",
       "1     disease          F03  Mental or Behavioral Dysfunction   0.30  1.000   \n",
       "2     disease      C10;F03               Disease or Syndrome   0.50  0.769   \n",
       "3     disease      C06;C04                Neoplastic Process   0.31  1.000   \n",
       "4       group      C06;C04                Neoplastic Process   0.30  1.000   \n",
       "\n",
       "   YearInitial  YearFinal  NofPmids  NofSnps     source  \n",
       "0       2017.0     2017.0         1        0  CTD_human  \n",
       "1       2015.0     2015.0         1        0  CTD_human  \n",
       "2       1998.0     2018.0         3        0  CTD_human  \n",
       "3       2004.0     2019.0         1        0  CTD_human  \n",
       "4       2004.0     2004.0         1        0  CTD_human  "
      ]
     },
     "execution_count": 4,
     "metadata": {},
     "output_type": "execute_result"
    }
   ],
   "source": [
    "data_first = pd.read_csv('curated_gene_disease_associations.tsv', sep='\\t')\n",
    "data_first.head()"
   ]
  },
  {
   "cell_type": "markdown",
   "metadata": {
    "id": "eRMIf9VuIIlD"
   },
   "source": [
    "here we're taking only genes associated with \"epileptic drop attack\""
   ]
  },
  {
   "cell_type": "code",
   "execution_count": 5,
   "metadata": {
    "id": "7a-0MdYfGhgx"
   },
   "outputs": [],
   "source": [
    "data_sel = data_first[data_first['diseaseId'] =='C0270846']"
   ]
  },
  {
   "cell_type": "code",
   "execution_count": 6,
   "metadata": {
    "id": "Kc6MFYu5Ghgy"
   },
   "outputs": [],
   "source": [
    "sel_to_join = data_sel.drop(['DSI', 'DPI', 'diseaseId', 'diseaseName',\n",
    "       'diseaseType', 'diseaseClass', 'diseaseSemanticType', 'score', 'EI',\n",
    "       'YearInitial', 'YearFinal', 'NofPmids', 'NofSnps', 'source'], axis=1)"
   ]
  },
  {
   "cell_type": "markdown",
   "metadata": {
    "id": "Z3ssJxpDIn2f"
   },
   "source": [
    "this is a simple check to understand which is the right \"geneId\" of gene named \"CHRNA7\" because in uniprotKB there are two different \"geneID\" for this gene"
   ]
  },
  {
   "cell_type": "code",
   "execution_count": 5,
   "metadata": {
    "id": "ohevqGg4Ghgy",
    "outputId": "366e62d0-d98d-4076-d064-fdf9390962c8"
   },
   "outputs": [
    {
     "data": {
      "text/html": [
       "<div>\n",
       "<style scoped>\n",
       "    .dataframe tbody tr th:only-of-type {\n",
       "        vertical-align: middle;\n",
       "    }\n",
       "\n",
       "    .dataframe tbody tr th {\n",
       "        vertical-align: top;\n",
       "    }\n",
       "\n",
       "    .dataframe thead th {\n",
       "        text-align: right;\n",
       "    }\n",
       "</style>\n",
       "<table border=\"1\" class=\"dataframe\">\n",
       "  <thead>\n",
       "    <tr style=\"text-align: right;\">\n",
       "      <th></th>\n",
       "      <th>geneId</th>\n",
       "      <th>geneSymbol</th>\n",
       "    </tr>\n",
       "  </thead>\n",
       "  <tbody>\n",
       "    <tr>\n",
       "      <th>9900</th>\n",
       "      <td>1139</td>\n",
       "      <td>CHRNA7</td>\n",
       "    </tr>\n",
       "  </tbody>\n",
       "</table>\n",
       "</div>"
      ],
      "text/plain": [
       "      geneId geneSymbol\n",
       "9900    1139     CHRNA7"
      ]
     },
     "execution_count": 5,
     "metadata": {},
     "output_type": "execute_result"
    }
   ],
   "source": [
    "sel_to_join[sel_to_join['geneId']==1139]"
   ]
  },
  {
   "cell_type": "markdown",
   "metadata": {
    "id": "pTHJTkiDI4pJ"
   },
   "source": [
    "here we're creating the list of \"geneSymbol\" in order to use it in HGNC online tool"
   ]
  },
  {
   "cell_type": "code",
   "execution_count": 6,
   "metadata": {
    "id": "grzkI1z2Ghgz"
   },
   "outputs": [],
   "source": [
    "symbol_list = list(sel_to_join['geneSymbol'])"
   ]
  },
  {
   "cell_type": "code",
   "execution_count": 7,
   "metadata": {
    "id": "TvfxtV0gGhgz"
   },
   "outputs": [],
   "source": [
    "id_list = list(sel_to_join['geneId'])"
   ]
  },
  {
   "cell_type": "markdown",
   "metadata": {
    "id": "PPOav4DeGhgz"
   },
   "source": [
    "# HGNC check"
   ]
  },
  {
   "cell_type": "markdown",
   "metadata": {
    "id": "D-zI_GjMJ7kF"
   },
   "source": [
    "In this part, we are sorting the symbols to get only the approved names, and withdraw the \"alias\", or \"previous names\".\n",
    "We are also putting all of them in a file to be able to pass it to the UNIPROT website."
   ]
  },
  {
   "cell_type": "code",
   "execution_count": 8,
   "metadata": {
    "id": "LoaSPu3iGhgz",
    "outputId": "e2586487-70e3-4ae0-e5ff-ee5203629931"
   },
   "outputs": [],
   "source": [
    "file_name = 'hgnc-symbol-check_approved.csv'\n",
    "data_name = pd.read_csv(file_name)"
   ]
  },
  {
   "cell_type": "markdown",
   "metadata": {},
   "source": [
    "saving the file in order to use it with uniprot online tool"
   ]
  },
  {
   "cell_type": "code",
   "execution_count": 9,
   "metadata": {},
   "outputs": [],
   "source": [
    "data_name['Approved symbol'].to_csv('uniprot_entry.txt', index=False, header=False)"
   ]
  },
  {
   "cell_type": "markdown",
   "metadata": {
    "id": "YHATruTwGhg0"
   },
   "source": [
    "# UNIPROT collection of data"
   ]
  },
  {
   "cell_type": "markdown",
   "metadata": {
    "id": "Ei1VmE8pKuq9"
   },
   "source": [
    "In this part we are getting specific informations from the UNIPROT website, linked to each genes with an official symbol. We are using the GeneID, the Protein name, the function,...\n",
    "\\\n",
    "Actually, we saw that among all the genes, one don't have any function referenced in UNIPROT: gene PLPPR1.\n",
    "\\\n",
    "According to the website GeneCard: https://www.genecards.org/cgi-bin/carddisp.pl?gene=PLPPR1 , this gene has several other alias. One of them is PRG3, which is also an approved name. When checked, this one has a function in UNIPROT. \n",
    "\\\n",
    "But when we checked its GeneID with the one given by the informations in the previous website, the GeneID are different. Thus in the rest of the project, we chose to keep the name 'PLPPR1'"
   ]
  },
  {
   "cell_type": "code",
   "execution_count": 7,
   "metadata": {
    "id": "loBaNkbLGhg0"
   },
   "outputs": [],
   "source": [
    "# cleaning data coming from uniprotKB\n",
    "data = pd.read_excel('uniprot_list.xlsx')\n",
    "data = data.rename(columns={'yourlist:M20201212216DA2B77BFBD2E6699CA9B6D1C41EB207E9E3I': 'Approved name'})\n",
    "data['Cross-reference (GeneID)'] = data['Cross-reference (GeneID)'].apply(lambda x: int(x.replace(';', '')))\n",
    "data.loc[data['Cross-reference (GeneID)'] == 113989832, 'Cross-reference (GeneID)'] = 1139\n",
    "data = data[data['Cross-reference (GeneID)'].isin(sel_to_join['geneId'])]\n",
    "data['Protein names'] = data['Protein names'].apply(lambda x: str(x).split(',')[0])\n",
    "data['Function [CC]'] = data['Function [CC]'].apply(lambda x: str(x)[0:70] + '...')\n",
    "data = data.drop(['Entry name', 'Gene names  (primary )', 'Status' ], axis=1)\n",
    "data['Protein names'] = data['Protein names'].apply(lambda x: str(x).split(' (')[0])\n",
    "data['Protein names'] = data['Protein names'].apply(lambda x: str(x).split('[')[0])"
   ]
  },
  {
   "cell_type": "code",
   "execution_count": 11,
   "metadata": {
    "id": "X4uGbcEMGhg0"
   },
   "outputs": [],
   "source": [
    "data.to_csv('uniprot_data_collection.csv', index=False)"
   ]
  },
  {
   "cell_type": "markdown",
   "metadata": {
    "id": "7v8M7LutGhg0"
   },
   "source": [
    "# BioGrid Human (interactions)"
   ]
  },
  {
   "cell_type": "code",
   "execution_count": 8,
   "metadata": {
    "id": "xO_aCW33Ghg0",
    "scrolled": false
   },
   "outputs": [],
   "source": [
    "# list of 101 seed genes used to filter biogrid interactions\n",
    "list_names = list(data['Approved name'])"
   ]
  },
  {
   "cell_type": "markdown",
   "metadata": {
    "id": "y3DWIrbBiucl"
   },
   "source": [
    "Here we're saving a file(\"network_file.txt\") with all the human/human interactions in Biogrid Human in order to use it in DIAMOND tool"
   ]
  },
  {
   "cell_type": "code",
   "execution_count": 9,
   "metadata": {
    "id": "IxsKDBTRGhg1",
    "outputId": "e52d6760-6545-47d0-cfe4-86a1485b53c8"
   },
   "outputs": [
    {
     "name": "stderr",
     "output_type": "stream",
     "text": [
      "F:\\anaconda\\lib\\site-packages\\IPython\\core\\interactiveshell.py:3071: DtypeWarning: Columns (1,18) have mixed types.Specify dtype option on import or set low_memory=False.\n",
      "  has_raised = await self.run_ast_nodes(code_ast.body, cell_name,\n"
     ]
    }
   ],
   "source": [
    "biogrid = pd.read_csv('BIOGRID-ORGANISM-Homo_sapiens-4.2.191.tab3.txt', delimiter='\\t')"
   ]
  },
  {
   "cell_type": "code",
   "execution_count": 14,
   "metadata": {
    "id": "g34BV4LLGhg1"
   },
   "outputs": [],
   "source": [
    "net_file = biogrid[(biogrid['Organism ID Interactor A'] == 9606) & (biogrid['Organism ID Interactor B'] == 9606)]"
   ]
  },
  {
   "cell_type": "code",
   "execution_count": 15,
   "metadata": {
    "id": "-apC2k4oGhg1"
   },
   "outputs": [],
   "source": [
    "net_file = net_file.drop(['Entrez Gene Interactor A',\n",
    "       'Entrez Gene Interactor B', '#BioGRID Interaction ID', 'BioGRID ID Interactor A',\n",
    "       'BioGRID ID Interactor B', 'Systematic Name Interactor A',\n",
    "       'Systematic Name Interactor B', 'Synonyms Interactor A',\n",
    "       'Synonyms Interactor B', 'Experimental System',\n",
    "       'Experimental System Type', 'Author', 'Publication Source',\n",
    "       'Organism ID Interactor A', 'Organism ID Interactor B', 'Throughput',\n",
    "       'Score', 'Modification', 'Qualifications', 'Tags', 'Source Database',\n",
    "       'SWISS-PROT Accessions Interactor A', 'TREMBL Accessions Interactor A',\n",
    "       'REFSEQ Accessions Interactor A', 'SWISS-PROT Accessions Interactor B',\n",
    "       'TREMBL Accessions Interactor B', 'REFSEQ Accessions Interactor B',\n",
    "       'Ontology Term IDs', 'Ontology Term Names', 'Ontology Term Categories',\n",
    "       'Ontology Term Qualifier IDs', 'Ontology Term Qualifier Names',\n",
    "       'Ontology Term Types', 'Organism Name Interactor A',\n",
    "       'Organism Name Interactor B'], axis=1)"
   ]
  },
  {
   "cell_type": "code",
   "execution_count": 16,
   "metadata": {
    "id": "3FK4_14OGhg2"
   },
   "outputs": [],
   "source": [
    "net_file.to_csv('network_file.txt', index=False, header=False)"
   ]
  },
  {
   "cell_type": "markdown",
   "metadata": {
    "id": "Zi53eBQSGhg2"
   },
   "source": [
    "Here we creating our disease interactome file(\"net_edge.csv\") in order to use it to create our network with networkx"
   ]
  },
  {
   "cell_type": "code",
   "execution_count": 10,
   "metadata": {
    "id": "yADr85HGGhg2",
    "outputId": "e40a0600-09b1-41a3-e26a-7ce95482cbfb"
   },
   "outputs": [],
   "source": [
    "# JUST HOMO SAPIENS/HOMO SAPIENS INTERACTIONS\n",
    "biogrid = biogrid[(biogrid['Organism ID Interactor A'] == 9606) & (biogrid['Organism ID Interactor B'] == 9606)]"
   ]
  },
  {
   "cell_type": "code",
   "execution_count": 11,
   "metadata": {
    "id": "ScQPVkH1Ghg2",
    "outputId": "784240e2-6225-4223-907a-573f565db973"
   },
   "outputs": [],
   "source": [
    "# JUST SEED GENE INTERACTIONs\n",
    "biogrid_final = biogrid[(biogrid['Official Symbol Interactor A'].isin(list_names)) | (biogrid['Official Symbol Interactor B'].isin(list_names))]"
   ]
  },
  {
   "cell_type": "markdown",
   "metadata": {
    "id": "_72yEd5gj6As"
   },
   "source": [
    "Here we have the number of genes in the disease interactome"
   ]
  },
  {
   "cell_type": "code",
   "execution_count": 12,
   "metadata": {
    "id": "bqwZO-yzGhg3"
   },
   "outputs": [
    {
     "data": {
      "text/plain": [
       "3923"
      ]
     },
     "execution_count": 12,
     "metadata": {},
     "output_type": "execute_result"
    }
   ],
   "source": [
    "complete_list = list(biogrid_final['Official Symbol Interactor A']) + list(biogrid_final['Official Symbol Interactor B'])\n",
    "complete_list = list(np.unique(complete_list))\n",
    "len(complete_list)"
   ]
  },
  {
   "cell_type": "markdown",
   "metadata": {},
   "source": [
    "here we're creating the file of all disease interactome genes in order to perform the enrichment analysis"
   ]
  },
  {
   "cell_type": "code",
   "execution_count": 13,
   "metadata": {},
   "outputs": [],
   "source": [
    "with open('interactome_genes.txt', 'w') as filehandle:\n",
    "    for listitem in complete_list:\n",
    "        filehandle.write('%s\\n' % listitem)"
   ]
  },
  {
   "cell_type": "markdown",
   "metadata": {
    "id": "XsobvlKPkEm-"
   },
   "source": [
    "Here we're checking the name of the only seed genes which does not appear in Biogrid human"
   ]
  },
  {
   "cell_type": "code",
   "execution_count": 20,
   "metadata": {
    "id": "yiaWa_guGhg3",
    "outputId": "63b4c38b-15c0-4fc5-a57c-5bb65f874057"
   },
   "outputs": [
    {
     "data": {
      "text/plain": [
       "{'PLPPR1'}"
      ]
     },
     "execution_count": 20,
     "metadata": {},
     "output_type": "execute_result"
    }
   ],
   "source": [
    "set(list_names) - set(complete_list)"
   ]
  },
  {
   "cell_type": "markdown",
   "metadata": {
    "id": "mjT8_I1rkRpj"
   },
   "source": [
    "Here we have the number of interactions in the disease interactome"
   ]
  },
  {
   "cell_type": "code",
   "execution_count": 21,
   "metadata": {
    "id": "Ki26FCEjGhg3"
   },
   "outputs": [
    {
     "name": "stdout",
     "output_type": "stream",
     "text": [
      "183747\n"
     ]
    }
   ],
   "source": [
    "biogrid_final = biogrid[(biogrid['Official Symbol Interactor A'].isin(complete_list)) & (biogrid['Official Symbol Interactor B'].isin(complete_list))]\n",
    "print(len(biogrid_final))"
   ]
  },
  {
   "cell_type": "markdown",
   "metadata": {
    "id": "dAemrwF2kmXj"
   },
   "source": [
    "Now we're creating the disease interactome file"
   ]
  },
  {
   "cell_type": "code",
   "execution_count": 22,
   "metadata": {
    "id": "r1y_9zVeGhg4"
   },
   "outputs": [],
   "source": [
    "biogrid_final = biogrid_final.drop(['Entrez Gene Interactor A',\n",
    "       'Entrez Gene Interactor B', '#BioGRID Interaction ID', 'BioGRID ID Interactor A',\n",
    "       'BioGRID ID Interactor B', 'Systematic Name Interactor A',\n",
    "       'Systematic Name Interactor B', 'Synonyms Interactor A',\n",
    "       'Synonyms Interactor B', 'Experimental System',\n",
    "       'Experimental System Type', 'Author', 'Publication Source',\n",
    "       'Organism ID Interactor A', 'Organism ID Interactor B', 'Throughput',\n",
    "       'Score', 'Modification', 'Qualifications', 'Tags', 'Source Database',\n",
    "       'SWISS-PROT Accessions Interactor A', 'TREMBL Accessions Interactor A',\n",
    "       'REFSEQ Accessions Interactor A', 'SWISS-PROT Accessions Interactor B',\n",
    "       'TREMBL Accessions Interactor B', 'REFSEQ Accessions Interactor B',\n",
    "       'Ontology Term IDs', 'Ontology Term Names', 'Ontology Term Categories',\n",
    "       'Ontology Term Qualifier IDs', 'Ontology Term Qualifier Names',\n",
    "       'Ontology Term Types', 'Organism Name Interactor A',\n",
    "       'Organism Name Interactor B'], axis=1)"
   ]
  },
  {
   "cell_type": "code",
   "execution_count": 23,
   "metadata": {
    "id": "QIV2BJ67Ghg4"
   },
   "outputs": [],
   "source": [
    "biogrid_final.to_csv('net_edge.csv', index=False)"
   ]
  },
  {
   "cell_type": "markdown",
   "metadata": {
    "id": "PiLQjlokGhg5"
   },
   "source": [
    "# PART 2"
   ]
  },
  {
   "cell_type": "markdown",
   "metadata": {
    "id": "MQZ5gkIsOlBW"
   },
   "source": [
    "The interactome of interest (built by filtering the complete interactome coming from BioGrid) is stored in the file \"net_edge.csv\" as an edge list, and is used to build a Graph object with the library NetworkX, which is used to compute all measures and operations on the interactome."
   ]
  },
  {
   "cell_type": "code",
   "execution_count": 29,
   "metadata": {
    "colab": {
     "base_uri": "https://localhost:8080/",
     "height": 212
    },
    "executionInfo": {
     "elapsed": 684,
     "status": "error",
     "timestamp": 1608216114132,
     "user": {
      "displayName": "gabriele tazza",
      "photoUrl": "",
      "userId": "01362096085710912521"
     },
     "user_tz": -60
    },
    "id": "RzpLL5EnGhg5",
    "outputId": "d762877c-cd94-4009-c41c-c9675aeead83"
   },
   "outputs": [],
   "source": [
    "biogrid_final = pd.read_csv('net_edge.csv')\n",
    "edges = []\n",
    "for i in range(len(biogrid_final)):\n",
    "    edges.append((biogrid_final['Official Symbol Interactor A'][i], biogrid_final['Official Symbol Interactor B'][i]))"
   ]
  },
  {
   "cell_type": "code",
   "execution_count": 30,
   "metadata": {
    "id": "1wbwERY5Ghg6"
   },
   "outputs": [],
   "source": [
    "import networkx as nx\n",
    "G = nx.Graph()    "
   ]
  },
  {
   "cell_type": "code",
   "execution_count": 31,
   "metadata": {
    "colab": {
     "base_uri": "https://localhost:8080/",
     "height": 162
    },
    "executionInfo": {
     "elapsed": 1766,
     "status": "error",
     "timestamp": 1608216115222,
     "user": {
      "displayName": "gabriele tazza",
      "photoUrl": "",
      "userId": "01362096085710912521"
     },
     "user_tz": -60
    },
    "id": "d35mGle9Ghg6",
    "outputId": "f19ba6e0-f757-4958-e914-43c806add535"
   },
   "outputs": [],
   "source": [
    "G.add_edges_from(edges)"
   ]
  },
  {
   "cell_type": "markdown",
   "metadata": {
    "id": "rxYv4b1-Ghg6"
   },
   "source": [
    "# Global measures"
   ]
  },
  {
   "cell_type": "code",
   "execution_count": 31,
   "metadata": {
    "id": "_SohMAKSGhg6",
    "outputId": "5c09768b-943c-4b1b-de21-b532d2f3cc8a"
   },
   "outputs": [
    {
     "name": "stdout",
     "output_type": "stream",
     "text": [
      "Number of nodes: 3923\n",
      "\n",
      "Number of links: 130563\n",
      "\n",
      "Number of isolated nodes: 0\n",
      "\n",
      "Average path length between nodes: 2.422625598872118\n",
      "\n",
      "Average degree of the interactome: 33.28141728269182\n",
      "\n",
      "Average clustering coefficient: 0.185725717191852\n",
      "\n",
      "Diameter: 6, Radius: 3\n",
      "\n",
      "Centralization of the graph: 0.30353678093864594\n"
     ]
    }
   ],
   "source": [
    "nn = nx.number_of_nodes(G)\n",
    "ne = nx.number_of_edges(G)\n",
    "AvgSP = nx.average_shortest_path_length(G)\n",
    "AvgCl = nx.average_clustering(G)\n",
    "nDegree = G.degree()\n",
    "\n",
    "density = 2*ne/(nn*(nn+1))\n",
    "values = dict(nDegree).values()\n",
    "max_k = max(values)\n",
    "centralization = (nn/(nn-2))*(max_k/(nn+1)) - density\n",
    "\n",
    "print(f\"Number of nodes: {nn}\\n\")\n",
    "\n",
    "print(f\"Number of links: {ne}\\n\")\n",
    "\n",
    "print(f\"Number of isolated nodes: {nx.number_of_isolates(G)}\\n\")\n",
    "\n",
    "print(f\"Average path length between nodes: {AvgSP}\\n\")\n",
    "\n",
    "print(f\"Average degree of the interactome: {ne/nn}\\n\")\n",
    "\n",
    "print(f\"Average clustering coefficient: {AvgCl}\\n\")\n",
    "\n",
    "print(f\"Diameter: {nx.diameter(G)}, Radius: {nx.radius(G)}\\n\")\n",
    "\n",
    "print(f\"Centralization of the graph: {centralization}\")"
   ]
  },
  {
   "cell_type": "code",
   "execution_count": 38,
   "metadata": {
    "id": "3e764q7GGhg8"
   },
   "outputs": [],
   "source": [
    "#nx.draw(G)"
   ]
  },
  {
   "cell_type": "markdown",
   "metadata": {
    "id": "Ib22DC9tGhg8"
   },
   "source": [
    "# LCC measures"
   ]
  },
  {
   "cell_type": "code",
   "execution_count": 32,
   "metadata": {
    "id": "E-2GAbZZGhg8"
   },
   "outputs": [],
   "source": [
    "LCC = max(nx.connected_components(G), key=len)\n",
    "LCC = G.subgraph(LCC)"
   ]
  },
  {
   "cell_type": "code",
   "execution_count": 33,
   "metadata": {
    "id": "c1X77CaEGhg8",
    "outputId": "c3760c96-a99c-458f-d389-880d43ddee21"
   },
   "outputs": [
    {
     "name": "stdout",
     "output_type": "stream",
     "text": [
      "Number of nodes of the LCC: 3923\n",
      "\n",
      "Number of edges of the LCC: 130563\n",
      "\n"
     ]
    }
   ],
   "source": [
    "print(f\"Number of nodes of the LCC: {nx.number_of_nodes(LCC)}\\n\")\n",
    "print(f\"Number of edges of the LCC: {nx.number_of_edges(LCC)}\\n\")"
   ]
  },
  {
   "cell_type": "markdown",
   "metadata": {
    "id": "QUjlb-XyVez1"
   },
   "source": [
    "Since the number of isolated nodes is 0, the LCC is exactly the complete graph, so all the measures remain the same."
   ]
  },
  {
   "cell_type": "markdown",
   "metadata": {
    "id": "xm53R3quGhg-"
   },
   "source": [
    "### Local measures of centrality"
   ]
  },
  {
   "cell_type": "markdown",
   "metadata": {
    "id": "jB4EUA5cdM5D"
   },
   "source": [
    "The betweenness centrality of a node is the number of shortest paths of the graph passing through that node. "
   ]
  },
  {
   "cell_type": "code",
   "execution_count": 34,
   "metadata": {
    "id": "Sj3iSkCoGhg-"
   },
   "outputs": [],
   "source": [
    "# Here we create a pandas DataFrame with betweenness centrality \n",
    "# and degree for the first 20 nodes with the highest betweennes centrality\n",
    "\n",
    "bet = nx.betweenness_centrality(LCC)\n",
    "bet = pd.DataFrame.from_dict(bet, orient='index', columns=['betweness centrality'])\n",
    "deg = pd.DataFrame.from_dict(dict(nDegree), orient='index', columns=['node degree'])\n",
    "dat = bet.sort_values(by='betweness centrality', axis=0, ascending=False).head(20)\n",
    "dat = dat.join(deg)"
   ]
  },
  {
   "cell_type": "markdown",
   "metadata": {
    "id": "ma5g4s8Te-hm"
   },
   "source": [
    "The eigenvector centrality measures the centrality of a node based on the centrality of its neighbours. This is done, as the name suggests, through eigenvectors of the adjacency matrix. "
   ]
  },
  {
   "cell_type": "code",
   "execution_count": 35,
   "metadata": {
    "id": "IHLKlzN8Ghg-"
   },
   "outputs": [],
   "source": [
    "eigen = nx.eigenvector_centrality(LCC, max_iter= 500)\n",
    "eig = pd.DataFrame.from_dict(eigen, orient='index', columns=['eigenvector centrality'])"
   ]
  },
  {
   "cell_type": "code",
   "execution_count": 36,
   "metadata": {
    "id": "-SGLjckfGhg_"
   },
   "outputs": [],
   "source": [
    "two = dat.join(eig)"
   ]
  },
  {
   "cell_type": "markdown",
   "metadata": {
    "id": "MiqWfZxgmTx4"
   },
   "source": [
    "Closeness central of a node is the reciprocal of the sum of the length of the shortest paths between the node and all other nodes in the graph. Thus, the more central a node is, the closer it is to all other nodes."
   ]
  },
  {
   "cell_type": "code",
   "execution_count": 37,
   "metadata": {
    "id": "1s__KpYcGhg_"
   },
   "outputs": [],
   "source": [
    "clos = nx.closeness_centrality(LCC)\n",
    "clos = pd.DataFrame.from_dict(clos, orient='index', columns=['closeness centrality'])"
   ]
  },
  {
   "cell_type": "code",
   "execution_count": 38,
   "metadata": {
    "id": "jJgPRkOAGhg_"
   },
   "outputs": [],
   "source": [
    "three = two.join(clos)"
   ]
  },
  {
   "cell_type": "code",
   "execution_count": 48,
   "metadata": {
    "id": "XdZt5mMmhfCD"
   },
   "outputs": [],
   "source": [
    "bet_over_deg = dat['betweness centrality']/dat['node degree']\n",
    "bet_over_deg = {'betweenness/degree':bet_over_deg}\n",
    "bet_over_deg = pd.DataFrame(bet_over_deg)\n",
    "lcc_local = three.join(bet_over_deg)"
   ]
  },
  {
   "cell_type": "markdown",
   "metadata": {
    "id": "hGlMucpalCme"
   },
   "source": [
    "The dataset containing the information about Node degree, Betweenness\n",
    "centrality, Eigenvector centrality, Closeness centrality and Betweenness/Node degree\n",
    "for the first twenty nodes with highest betweenness centrality is stored\n",
    "in a csv file:"
   ]
  },
  {
   "cell_type": "code",
   "execution_count": 50,
   "metadata": {
    "id": "ItAQMmCMGhhA"
   },
   "outputs": [],
   "source": [
    "lcc_local.to_csv('lcc_local.csv')"
   ]
  },
  {
   "cell_type": "markdown",
   "metadata": {
    "id": "SE5hpXPQGhhA"
   },
   "source": [
    "# CLUSTERING"
   ]
  },
  {
   "cell_type": "code",
   "execution_count": 32,
   "metadata": {
    "id": "nIZUhOlvGhhA"
   },
   "outputs": [],
   "source": [
    "import markov_clustering as mc\n",
    "from scipy.stats import hypergeom"
   ]
  },
  {
   "cell_type": "code",
   "execution_count": 33,
   "metadata": {
    "id": "__78DXyJGhhA"
   },
   "outputs": [],
   "source": [
    "matrix = nx.to_scipy_sparse_matrix(G)\n",
    "# run MCL with default parameters\n",
    "result = mc.run_mcl(matrix)          \n",
    "clusters = mc.get_clusters(result) "
   ]
  },
  {
   "cell_type": "code",
   "execution_count": 34,
   "metadata": {
    "id": "vMim0oW-GhhB",
    "outputId": "7c9359b3-8f6e-4935-9274-ec0fea65399b"
   },
   "outputs": [],
   "source": [
    "nodes = np.array(list(G.nodes()))\n",
    "seed_list = list_names"
   ]
  },
  {
   "cell_type": "markdown",
   "metadata": {
    "id": "w7ddLEnESYAI"
   },
   "source": [
    "After performing the MCL clustering, we had to take just clusters with number of element >= 10, and with a statistical overepresentation of seed genes(hypergeometric test with a p_value < 0.05). We also printed the requested informations in order to report them.\n",
    "Results show us 4 cluster with the characteristics described before.\n",
    " "
   ]
  },
  {
   "cell_type": "code",
   "execution_count": 35,
   "metadata": {
    "id": "yfwBAv8CGhhB"
   },
   "outputs": [
    {
     "name": "stdout",
     "output_type": "stream",
     "text": [
      "          N_total  n_seed     ratio      pval\n",
      "Module 1       11       1  0.090909  0.031027\n",
      "          N_total  n_seed  ratio      pval\n",
      "Module 2       10       1    0.1  0.025813\n",
      "          N_total  n_seed  ratio      pval\n",
      "Module 3       10       1    0.1  0.025813\n",
      "          N_total  n_seed     ratio      pval\n",
      "Module 4       11       1  0.090909  0.031027\n"
     ]
    }
   ],
   "source": [
    "put_dis_mod = []\n",
    "j = 1\n",
    "for i in clusters:\n",
    "    if len(i)>=10:\n",
    "        clus = nodes[list(i)]\n",
    "        K = len(nodes)\n",
    "        k = len(seed_list)\n",
    "        N = len(clus)\n",
    "        n = len(set(clus).intersection(set(seed_list)))\n",
    "        pval = hypergeom.sf(n, K, k, N)\n",
    "        if pval < 0.05:\n",
    "            print(pd.DataFrame(\n",
    "                        index=[\n",
    "                            f\"Module {j}\"],\n",
    "                        data={\n",
    "                            \"N_total\": N,\n",
    "                            \"n_seed\": n,\n",
    "                            \"ratio\": n/N,\n",
    "                            \"pval\": pval,\n",
    "                           }))\n",
    "            j += 1\n",
    "            put_dis_mod.append(clus)\n",
    "        "
   ]
  },
  {
   "cell_type": "code",
   "execution_count": 36,
   "metadata": {},
   "outputs": [
    {
     "data": {
      "text/plain": [
       "[array(['RBFOX2', 'DAB1', 'CELF3', 'PLK2', 'RBFOX1', 'PCBP4', 'SIRPB1',\n",
       "        'CCDC103', 'SDR9C7', 'RBFOX3', 'ZIC1'], dtype='<U14'),\n",
       " array(['GLRX3', 'MEOX2', 'AMOTL2', 'MMP25', 'BCAT2', 'KRT81', 'TGM1',\n",
       "        'TEX14', 'CYP4F12', 'CHRNB4'], dtype='<U14'),\n",
       " array(['RASGRP3', 'PRKCD', 'PRKCE', 'PRKCQ', 'GABRA1', 'CARD11', 'IL32',\n",
       "        'PPRC1', 'H2BFS', 'LYSMD2'], dtype='<U14'),\n",
       " array(['AMD1', 'TPSAB1', 'HLA-DRB3', 'POMC', 'MC4R', 'MC5R', 'MC3R',\n",
       "        'TTL', 'HDDC2', 'TSPAN11', 'BHLHA9'], dtype='<U14')]"
      ]
     },
     "execution_count": 36,
     "metadata": {},
     "output_type": "execute_result"
    }
   ],
   "source": [
    "put_dis_mod"
   ]
  },
  {
   "cell_type": "markdown",
   "metadata": {
    "id": "zjZwM3a8GhhC"
   },
   "source": [
    "# DIAMOND TOOL\n",
    "\n"
   ]
  },
  {
   "cell_type": "markdown",
   "metadata": {
    "id": "j0-cgmvNUFaZ"
   },
   "source": [
    "For this part we used the diamond tool by creating an environment with python 2.7 and by lunching \"DIAMOnD.py PPI.txt seed_genes.txt 100\" on the command line. In our case, PPI.txt was a comma separated file with all the human/human interactions found in Biogrid Human and seed_genes.txt 100 was a text file with our 101 seed gene symbols(one for each row). \n",
    "\n",
    "\n"
   ]
  },
  {
   "cell_type": "code",
   "execution_count": 25,
   "metadata": {
    "id": "3XSq8tecGhhC",
    "outputId": "3ccad26b-b0ed-447f-f7f4-42ce4c4a4faa"
   },
   "outputs": [
    {
     "data": {
      "text/html": [
       "<div>\n",
       "<style scoped>\n",
       "    .dataframe tbody tr th:only-of-type {\n",
       "        vertical-align: middle;\n",
       "    }\n",
       "\n",
       "    .dataframe tbody tr th {\n",
       "        vertical-align: top;\n",
       "    }\n",
       "\n",
       "    .dataframe thead th {\n",
       "        text-align: right;\n",
       "    }\n",
       "</style>\n",
       "<table border=\"1\" class=\"dataframe\">\n",
       "  <thead>\n",
       "    <tr style=\"text-align: right;\">\n",
       "      <th></th>\n",
       "      <th>#rank</th>\n",
       "      <th>DIAMOnD_node</th>\n",
       "    </tr>\n",
       "  </thead>\n",
       "  <tbody>\n",
       "    <tr>\n",
       "      <th>0</th>\n",
       "      <td>1</td>\n",
       "      <td>GPRASP1</td>\n",
       "    </tr>\n",
       "    <tr>\n",
       "      <th>1</th>\n",
       "      <td>2</td>\n",
       "      <td>HRH3</td>\n",
       "    </tr>\n",
       "    <tr>\n",
       "      <th>2</th>\n",
       "      <td>3</td>\n",
       "      <td>HTR1D</td>\n",
       "    </tr>\n",
       "    <tr>\n",
       "      <th>3</th>\n",
       "      <td>4</td>\n",
       "      <td>VEGFA</td>\n",
       "    </tr>\n",
       "    <tr>\n",
       "      <th>4</th>\n",
       "      <td>5</td>\n",
       "      <td>CLIC6</td>\n",
       "    </tr>\n",
       "  </tbody>\n",
       "</table>\n",
       "</div>"
      ],
      "text/plain": [
       "   #rank DIAMOnD_node\n",
       "0      1      GPRASP1\n",
       "1      2         HRH3\n",
       "2      3        HTR1D\n",
       "3      4        VEGFA\n",
       "4      5        CLIC6"
      ]
     },
     "execution_count": 25,
     "metadata": {},
     "output_type": "execute_result"
    }
   ],
   "source": [
    "dimond = pd.read_csv('first_200_added_nodes_weight_1.txt', delimiter='\\t')\n",
    "dimond.head()"
   ]
  },
  {
   "cell_type": "code",
   "execution_count": 37,
   "metadata": {},
   "outputs": [],
   "source": [
    "# for i in dimond['DIAMOnD_node'][:30]:\n",
    "#      print(i)"
   ]
  }
 ],
 "metadata": {
  "colab": {
   "collapsed_sections": [],
   "name": "bio_project.ipynb",
   "provenance": []
  },
  "kernelspec": {
   "display_name": "Python 3",
   "language": "python",
   "name": "python3"
  },
  "language_info": {
   "codemirror_mode": {
    "name": "ipython",
    "version": 3
   },
   "file_extension": ".py",
   "mimetype": "text/x-python",
   "name": "python",
   "nbconvert_exporter": "python",
   "pygments_lexer": "ipython3",
   "version": "3.8.3"
  }
 },
 "nbformat": 4,
 "nbformat_minor": 1
}
